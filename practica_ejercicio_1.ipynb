{
 "cells": [
  {
   "cell_type": "code",
   "execution_count": 1,
   "outputs": [],
   "source": [
    "%matplotlib tk\n",
    "import cv2.cv2 as cv2\n",
    "import matplotlib.pyplot as plt\n",
    "import numpy as np\n",
    "\n",
    "from noise import add_noise, NoiseTypes"
   ],
   "metadata": {
    "collapsed": false,
    "pycharm": {
     "name": "#%%\n"
    }
   }
  },
  {
   "cell_type": "markdown",
   "source": [
    "# Ejericio 1.1: Filtrado anisotrópico un solo canal\n",
    "\n",
    "Se he implementado en python la función matlab que se incluye como parte de los ejercicios."
   ],
   "metadata": {
    "collapsed": false,
    "pycharm": {
     "name": "#%% md\n"
    }
   }
  },
  {
   "cell_type": "code",
   "execution_count": 2,
   "outputs": [],
   "source": [
    "def dif_aniso(im: np.ndarray, niter: int, k: float, l: float, option: int) -> np.ndarray:\n",
    "    assert im.ndim == 2, \"Image must be gray (2 channel)\"\n",
    "\n",
    "    rows, cols = im.shape\n",
    "    imdif = im.copy()\n",
    "\n",
    "    for i in range(niter):\n",
    "        # pads image with zeros\n",
    "        imdifm = np.pad(imdif, (1,), constant_values=0, mode='constant')\n",
    "\n",
    "        # gradients in 4 directions\n",
    "        deltaN = imdifm[0:rows, 1:cols + 1] - imdif\n",
    "        deltaS = imdifm[2:rows + 2, 1:cols + 1] - imdif\n",
    "        deltaE = imdifm[1:rows + 1, 2:cols + 2] - imdif\n",
    "        deltaW = imdifm[1:rows + 1, 0:cols] - imdif\n",
    "\n",
    "        # conductance\n",
    "        if option == 1:\n",
    "            cN = np.exp(-(deltaN / k) ** 2)\n",
    "            cS = np.exp(-(deltaS / k) ** 2)\n",
    "            cE = np.exp(-(deltaE / k) ** 2)\n",
    "            cW = np.exp(-(deltaW / k) ** 2)\n",
    "        elif option == 2:\n",
    "            cN = 1. / np.exp(1. + (deltaN / k) ** 2)\n",
    "            cS = 1. / np.exp(1. + (deltaS / k) ** 2)\n",
    "            cE = 1. / np.exp(1. + (deltaE / k) ** 2)\n",
    "            cW = 1. / np.exp(1. + (deltaW / k) ** 2)\n",
    "\n",
    "        imdif = imdif + (l * (cN * deltaN + cS * deltaS + cE * deltaE + cW * deltaW))\n",
    "        pass\n",
    "\n",
    "    return imdif"
   ],
   "metadata": {
    "collapsed": false,
    "pycharm": {
     "name": "#%%\n"
    }
   }
  },
  {
   "cell_type": "code",
   "execution_count": 3,
   "outputs": [],
   "source": [
    "def read_image(file):\n",
    "    image = cv2.imread(file, cv2.COLOR_BGR2GRAY)\n",
    "    image = image.astype(np.float64)\n",
    "    return image"
   ],
   "metadata": {
    "collapsed": false,
    "pycharm": {
     "name": "#%%\n"
    }
   }
  },
  {
   "cell_type": "markdown",
   "source": [
    "## Determinando el parámetro K\n",
    "\n",
    "Para determinar el valor del parámetro K, se han generado las imágenes de gradientes en las 4 direcciones y se ha analizado el valor del gradiente en las zonas de bajo contraste cuyos bordes queremos mantener.\n",
    "\n",
    "De esta forma hemos determinado que el valor que búscamos para el parámetro K es 8."
   ],
   "metadata": {
    "collapsed": false,
    "pycharm": {
     "name": "#%% md\n"
    }
   }
  },
  {
   "cell_type": "code",
   "execution_count": 4,
   "outputs": [],
   "source": [
    "def show_gradients(image_file):\n",
    "    image = read_image(image_file)\n",
    "    image = add_noise(image=image, noise_type=NoiseTypes.RICIAN_NOISE, intensity=0.1)\n",
    "    rows, cols = image.shape\n",
    "\n",
    "    # pads image with zeros\n",
    "    imdifm = np.pad(image, (1,), constant_values=0, mode='constant')\n",
    "\n",
    "    # gradients in 4 directions\n",
    "    deltaN = imdifm[0:rows, 1:cols + 1] - image\n",
    "    deltaS = imdifm[2:rows + 2, 1:cols + 1] - image\n",
    "    deltaE = imdifm[1:rows + 1, 2:cols + 2] - image\n",
    "    deltaW = imdifm[1:rows + 1, 0:cols] - image\n",
    "\n",
    "    fig, ax = plt.subplots(2, 2, figsize=(14.4, 14.4), tight_layout={\n",
    "        'rect': [0, 0, 1, 0.98] }\n",
    "    )\n",
    "    ax[0,0].imshow(deltaN, cmap='gray')\n",
    "    ax[0,1].imshow(deltaS, cmap='gray')\n",
    "    ax[1,0].imshow(deltaE, cmap='gray')\n",
    "    ax[1,1].imshow(deltaW, cmap='gray')\n",
    "    fig.show()\n",
    "\n",
    "show_gradients(\"materiales/T1.png\")\n",
    "show_gradients(\"materiales/T2.png\")"
   ],
   "metadata": {
    "collapsed": false,
    "pycharm": {
     "name": "#%%\n"
    }
   }
  },
  {
   "cell_type": "markdown",
   "source": [
    "## Realizando el filtrado en T1.png\n",
    "\n",
    "Se ha realizado y presentado el filtrado en T1.png con el parámetro K deducido con el método anteriormente comentado y numero de iteraciones y valor de lambda probados de forma empírica."
   ],
   "metadata": {
    "collapsed": false,
    "pycharm": {
     "name": "#%% md\n"
    }
   }
  },
  {
   "cell_type": "code",
   "execution_count": 12,
   "outputs": [],
   "source": [
    "def filter_image(image_file):\n",
    "    imageT1 = read_image(image_file)\n",
    "    noise_image = add_noise(image=imageT1, noise_type=NoiseTypes.RICIAN_NOISE, intensity=0.1)\n",
    "    denoised_image = dif_aniso(im=noise_image, niter=10, k=8, l=0.40, option=1)\n",
    "\n",
    "    fig, ax = plt.subplots(1, 3, figsize=(8.4, 14.4), tight_layout={\n",
    "            'rect': [0, 0, 1, 0.98]\n",
    "        }\n",
    "    )\n",
    "    ax[0].imshow(imageT1, cmap='gray')\n",
    "    ax[0].set_title('original T1')\n",
    "    ax[1].imshow(noise_image, cmap='gray')\n",
    "    ax[1].set_title('ruidosa T1')\n",
    "    ax[2].imshow(denoised_image, cmap='gray')\n",
    "    ax[2].set_title(\"denoised T1\")\n",
    "    fig.show()\n",
    "\n",
    "filter_image(\"materiales/T1.png\")"
   ],
   "metadata": {
    "collapsed": false,
    "pycharm": {
     "name": "#%%\n"
    }
   }
  },
  {
   "cell_type": "markdown",
   "source": [
    "Y hacemos lo mismo para T2"
   ],
   "metadata": {
    "collapsed": false,
    "pycharm": {
     "name": "#%% md\n"
    }
   }
  },
  {
   "cell_type": "code",
   "execution_count": 13,
   "outputs": [],
   "source": [
    "filter_image(\"materiales/T2.png\")"
   ],
   "metadata": {
    "collapsed": false,
    "pycharm": {
     "name": "#%%\n"
    }
   }
  },
  {
   "cell_type": "markdown",
   "source": [
    "# Ejercicio 1.2: Filtrado anisotrópico multicanal\n",
    "\n",
    "Se ha modificado la función dif_aniso (ahora dif_aniso_mc) para aceptar dos imágenes, y realizar el cálculo del coeficiente empleando la fórmula propuesta por Gerig, Kikins, Kübler y Jolesz:\n",
    "\n",
    "$$ c(\\vec{x}, t) = \\sqrt{\\nabla I_1^2 + \\nabla I_2^2} $$"
   ],
   "metadata": {
    "collapsed": false,
    "pycharm": {
     "name": "#%% md\n"
    }
   }
  },
  {
   "cell_type": "code",
   "execution_count": 14,
   "outputs": [],
   "source": [
    "def dif_aniso_mc(im1: np.ndarray, im2: np.ndarray, niter: int, k: float, l: float, option: int) -> np.ndarray:\n",
    "    assert im1.ndim == 2, \"Image must be gray (2 channel)\"\n",
    "    assert im2.ndim == 2, \"Image 2 must be gray (2 channel)\"\n",
    "    assert im1.shape == im2.shape, \"Both images must be same size\"\n",
    "\n",
    "    rows, cols = im1.shape\n",
    "    imdif1 = im1.copy()\n",
    "    imdif2 = im2.copy()\n",
    "\n",
    "    for i in range(niter):\n",
    "        # pads images 1 and 2 with zeros\n",
    "        imdifm1 = np.pad(imdif1, (1,), constant_values=0, mode='constant')\n",
    "        imdifm2 = np.pad(imdif2, (1,), constant_values=0, mode='constant')\n",
    "\n",
    "        # gradients in 4 directions image 1\n",
    "        deltaN1 = imdifm1[0:rows, 1:cols + 1] - imdif1\n",
    "        deltaS1 = imdifm1[2:rows + 2, 1:cols + 1] - imdif1\n",
    "        deltaE1 = imdifm1[1:rows + 1, 2:cols + 2] - imdif1\n",
    "        deltaW1 = imdifm1[1:rows + 1, 0:cols] - imdif1\n",
    "\n",
    "        # gradients in 4 directions image 2\n",
    "        deltaN2 = imdifm2[0:rows, 1:cols + 1] - imdif2\n",
    "        deltaS2 = imdifm2[2:rows + 2, 1:cols + 1] - imdif2\n",
    "        deltaE2 = imdifm2[1:rows + 1, 2:cols + 2] - imdif2\n",
    "        deltaW2 = imdifm2[1:rows + 1, 0:cols] - imdif2\n",
    "\n",
    "        # combine gradientes\n",
    "        deltaN = np.sqrt(deltaN1 ** 2 + deltaN2 ** 2)\n",
    "        deltaS = np.sqrt(deltaS1 ** 2 + deltaS2 ** 2)\n",
    "        deltaE = np.sqrt(deltaE1 ** 2 + deltaE2 ** 2)\n",
    "        deltaW = np.sqrt(deltaW1 ** 2 + deltaW2 ** 2)\n",
    "\n",
    "        # conductance\n",
    "        if option == 1:\n",
    "            cN = np.exp(-(deltaN / k) ** 2)\n",
    "            cS = np.exp(-(deltaS / k) ** 2)\n",
    "            cE = np.exp(-(deltaE / k) ** 2)\n",
    "            cW = np.exp(-(deltaW / k) ** 2)\n",
    "        elif option == 2:\n",
    "            cN = 1. / np.exp(1. + (deltaN / k) ** 2)\n",
    "            cS = 1. / np.exp(1. + (deltaS / k) ** 2)\n",
    "            cE = 1. / np.exp(1. + (deltaE / k) ** 2)\n",
    "            cW = 1. / np.exp(1. + (deltaW / k) ** 2)\n",
    "\n",
    "        imdif1 = imdif1 + (l * (cN * deltaN + cS * deltaS + cE * deltaE + cW * deltaW))\n",
    "        imdif2 = imdif2 + (l * (cN * deltaN + cS * deltaS + cE * deltaE + cW * deltaW))\n",
    "\n",
    "    return imdif1, imdif2"
   ],
   "metadata": {
    "collapsed": false,
    "pycharm": {
     "name": "#%%\n"
    }
   }
  },
  {
   "cell_type": "markdown",
   "source": [
    "Y generado la salida empleando ambas imágenes"
   ],
   "metadata": {
    "collapsed": false,
    "pycharm": {
     "name": "#%% md\n"
    }
   }
  },
  {
   "cell_type": "code",
   "execution_count": 21,
   "outputs": [],
   "source": [
    "def filter_images(image_file1, image_file2):\n",
    "    image1 = read_image(image_file1)\n",
    "    image2 = read_image(image_file2)\n",
    "    noise_image1 = add_noise(image=image1, noise_type=NoiseTypes.RICIAN_NOISE, intensity=0.1)\n",
    "    noise_image2 = add_noise(image=image2, noise_type=NoiseTypes.RICIAN_NOISE, intensity=0.1)\n",
    "    denoised_image1, denoised_image2 = dif_aniso_mc(im1=noise_image1, im2=noise_image2, niter=10, k=8, l=0.25, option=1)\n",
    "\n",
    "    fig, ax = plt.subplots(2, 3, figsize=(8.4, 14.4), tight_layout={\n",
    "            'rect': [0, 0, 1, 0.98]\n",
    "        }\n",
    "    )\n",
    "    ax[0,0].imshow(image1, cmap='gray')\n",
    "    ax[0,0].set_title('original T1')\n",
    "    ax[0,1].imshow(noise_image1, cmap='gray')\n",
    "    ax[0,1].set_title('ruidosa T1')\n",
    "    ax[0,2].imshow(denoised_image1, cmap='gray')\n",
    "    ax[0,2].set_title(\"denoised T1\")\n",
    "\n",
    "    ax[1,0].imshow(image2, cmap='gray')\n",
    "    ax[1,0].set_title('original T2')\n",
    "    ax[1,1].imshow(noise_image2, cmap='gray')\n",
    "    ax[1,1].set_title('ruidosa T2')\n",
    "    ax[1,2].imshow(denoised_image2, cmap='gray')\n",
    "    ax[1,2].set_title(\"denoised T2\")\n",
    "    fig.show()\n",
    "\n",
    "filter_images(\"materiales/T1.png\", \"materiales/T2.png\")"
   ],
   "metadata": {
    "collapsed": false,
    "pycharm": {
     "name": "#%%\n"
    }
   }
  },
  {
   "cell_type": "code",
   "execution_count": null,
   "outputs": [],
   "source": [],
   "metadata": {
    "collapsed": false,
    "pycharm": {
     "name": "#%%\n"
    }
   }
  }
 ],
 "metadata": {
  "kernelspec": {
   "display_name": "Python 3",
   "language": "python",
   "name": "python3"
  },
  "language_info": {
   "codemirror_mode": {
    "name": "ipython",
    "version": 2
   },
   "file_extension": ".py",
   "mimetype": "text/x-python",
   "name": "python",
   "nbconvert_exporter": "python",
   "pygments_lexer": "ipython2",
   "version": "2.7.6"
  }
 },
 "nbformat": 4,
 "nbformat_minor": 0
}